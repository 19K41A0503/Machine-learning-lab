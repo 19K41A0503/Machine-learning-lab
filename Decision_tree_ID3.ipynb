{
  "cells": [
    {
      "cell_type": "markdown",
      "metadata": {
        "id": "view-in-github",
        "colab_type": "text"
      },
      "source": [
        "<a href=\"https://colab.research.google.com/github/19K41A0503/Machine-learning-lab/blob/main/Decision_tree_ID3.ipynb\" target=\"_parent\"><img src=\"https://colab.research.google.com/assets/colab-badge.svg\" alt=\"Open In Colab\"/></a>"
      ]
    },
    {
      "cell_type": "code",
      "execution_count": 4,
      "metadata": {
        "id": "I-jQpDec9q-0"
      },
      "outputs": [],
      "source": [
        "import pandas as pd\n",
        "import numpy as np\n",
        "from sklearn.metrics import classification_report\n",
        "from sklearn.metrics import confusion_matrix\n",
        "from sklearn.model_selection import train_test_split\n",
        "from sklearn.tree import DecisionTreeClassifier, export_text\n",
        "#from sklearn.tree import DecisionTreeClassifier,export_text"
      ]
    },
    {
      "cell_type": "code",
      "source": [
        "from google.colab import drive\n",
        "drive.mount('/content/drive')"
      ],
      "metadata": {
        "colab": {
          "base_uri": "https://localhost:8080/"
        },
        "id": "4XK0nXfiw_AN",
        "outputId": "7c54a956-fe11-435d-df61-0dde51ba8cc7"
      },
      "execution_count": 5,
      "outputs": [
        {
          "output_type": "stream",
          "name": "stdout",
          "text": [
            "Drive already mounted at /content/drive; to attempt to forcibly remount, call drive.mount(\"/content/drive\", force_remount=True).\n"
          ]
        }
      ]
    },
    {
      "cell_type": "code",
      "execution_count": 6,
      "metadata": {
        "id": "-5DQR5Qp9q--"
      },
      "outputs": [],
      "source": [
        "raw_data = pd.read_csv('/content/drive/MyDrive/Machine Learning/kyphosis (1).csv')"
      ]
    },
    {
      "cell_type": "code",
      "execution_count": 7,
      "metadata": {
        "id": "IewDOB7C9q_A"
      },
      "outputs": [],
      "source": [
        "x = raw_data.drop('Kyphosis', axis = 1)\n",
        "y = raw_data['Kyphosis']\n",
        "x_training_data, x_test_data, y_training_data, y_test_data = train_test_split(x, y, test_size = 0.3)"
      ]
    },
    {
      "cell_type": "code",
      "execution_count": 8,
      "metadata": {
        "id": "0gwqInYt9q_C",
        "outputId": "c2d25594-c92d-4120-b6b9-87c7fd72ac53",
        "colab": {
          "base_uri": "https://localhost:8080/"
        }
      },
      "outputs": [
        {
          "output_type": "stream",
          "name": "stdout",
          "text": [
            "|--- feature_2 <= 12.50\n",
            "|   |--- feature_0 <= 134.00\n",
            "|   |   |--- feature_0 <= 86.00\n",
            "|   |   |   |--- class: absent\n",
            "|   |   |--- feature_0 >  86.00\n",
            "|   |   |   |--- class: present\n",
            "|   |--- feature_0 >  134.00\n",
            "|   |   |--- class: absent\n",
            "|--- feature_2 >  12.50\n",
            "|   |--- feature_2 <= 14.50\n",
            "|   |   |--- feature_0 <= 58.50\n",
            "|   |   |   |--- class: absent\n",
            "|   |   |--- feature_0 >  58.50\n",
            "|   |   |   |--- class: absent\n",
            "|   |--- feature_2 >  14.50\n",
            "|   |   |--- class: absent\n",
            "\n",
            "              precision    recall  f1-score   support\n",
            "\n",
            "      absent       0.90      0.90      0.90        21\n",
            "     present       0.50      0.50      0.50         4\n",
            "\n",
            "    accuracy                           0.84        25\n",
            "   macro avg       0.70      0.70      0.70        25\n",
            "weighted avg       0.84      0.84      0.84        25\n",
            "\n",
            "[[19  2]\n",
            " [ 2  2]]\n"
          ]
        }
      ],
      "source": [
        "model = DecisionTreeClassifier(random_state=0, max_depth=3)\n",
        "s=model.fit(x_training_data, y_training_data)\n",
        "s1=export_text(s)\n",
        "print(s1)\n",
        "predictions = model.predict(x_test_data)\n",
        "print(classification_report(y_test_data, predictions))\n",
        "print(confusion_matrix(y_test_data, predictions))"
      ]
    },
    {
      "cell_type": "code",
      "execution_count": 8,
      "metadata": {
        "id": "SD8-877w9q_H"
      },
      "outputs": [],
      "source": []
    }
  ],
  "metadata": {
    "kernelspec": {
      "display_name": "Python 3",
      "language": "python",
      "name": "python3"
    },
    "language_info": {
      "codemirror_mode": {
        "name": "ipython",
        "version": 3
      },
      "file_extension": ".py",
      "mimetype": "text/x-python",
      "name": "python",
      "nbconvert_exporter": "python",
      "pygments_lexer": "ipython3",
      "version": "3.8.8"
    },
    "colab": {
      "provenance": [],
      "include_colab_link": true
    }
  },
  "nbformat": 4,
  "nbformat_minor": 0
}