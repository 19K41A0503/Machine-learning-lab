{
  "nbformat": 4,
  "nbformat_minor": 0,
  "metadata": {
    "colab": {
      "provenance": [],
      "collapsed_sections": [],
      "include_colab_link": true
    },
    "kernelspec": {
      "name": "python3",
      "display_name": "Python 3"
    },
    "language_info": {
      "name": "python"
    }
  },
  "cells": [
    {
      "cell_type": "markdown",
      "metadata": {
        "id": "view-in-github",
        "colab_type": "text"
      },
      "source": [
        "<a href=\"https://colab.research.google.com/github/19K41A0503/Machine-learning-lab/blob/main/k_means_clustering.ipynb\" target=\"_parent\"><img src=\"https://colab.research.google.com/assets/colab-badge.svg\" alt=\"Open In Colab\"/></a>"
      ]
    },
    {
      "cell_type": "code",
      "execution_count": 5,
      "metadata": {
        "id": "QzUOZgq-3Y-c"
      },
      "outputs": [],
      "source": [
        "import numpy as np\n",
        "import pandas as pd\n",
        "import statsmodels.api as sm\n",
        "import matplotlib.pyplot as plt\n",
        "import seaborn as sns\n",
        "sns.set()\n",
        "from sklearn.cluster import KMeans\n"
      ]
    },
    {
      "cell_type": "code",
      "source": [
        "data = pd.read_csv('/content/drive/MyDrive/Machine Learning/Countries-exercise.csv')\n",
        "data.head()"
      ],
      "metadata": {
        "colab": {
          "base_uri": "https://localhost:8080/",
          "height": 206
        },
        "id": "-wr9m7CD4Cgg",
        "outputId": "c85ddde7-bd48-491d-ac38-943e691c0363"
      },
      "execution_count": 6,
      "outputs": [
        {
          "output_type": "execute_result",
          "data": {
            "text/plain": [
              "          name  Longitude   Latitude\n",
              "0        Aruba -69.982677  12.520880\n",
              "1  Afghanistan  66.004734  33.835231\n",
              "2       Angola  17.537368 -12.293361\n",
              "3     Anguilla -63.064989  18.223959\n",
              "4      Albania  20.049834  41.142450"
            ],
            "text/html": [
              "\n",
              "  <div id=\"df-b9a0e326-3bdc-4c8e-aed4-b38e980468b6\">\n",
              "    <div class=\"colab-df-container\">\n",
              "      <div>\n",
              "<style scoped>\n",
              "    .dataframe tbody tr th:only-of-type {\n",
              "        vertical-align: middle;\n",
              "    }\n",
              "\n",
              "    .dataframe tbody tr th {\n",
              "        vertical-align: top;\n",
              "    }\n",
              "\n",
              "    .dataframe thead th {\n",
              "        text-align: right;\n",
              "    }\n",
              "</style>\n",
              "<table border=\"1\" class=\"dataframe\">\n",
              "  <thead>\n",
              "    <tr style=\"text-align: right;\">\n",
              "      <th></th>\n",
              "      <th>name</th>\n",
              "      <th>Longitude</th>\n",
              "      <th>Latitude</th>\n",
              "    </tr>\n",
              "  </thead>\n",
              "  <tbody>\n",
              "    <tr>\n",
              "      <th>0</th>\n",
              "      <td>Aruba</td>\n",
              "      <td>-69.982677</td>\n",
              "      <td>12.520880</td>\n",
              "    </tr>\n",
              "    <tr>\n",
              "      <th>1</th>\n",
              "      <td>Afghanistan</td>\n",
              "      <td>66.004734</td>\n",
              "      <td>33.835231</td>\n",
              "    </tr>\n",
              "    <tr>\n",
              "      <th>2</th>\n",
              "      <td>Angola</td>\n",
              "      <td>17.537368</td>\n",
              "      <td>-12.293361</td>\n",
              "    </tr>\n",
              "    <tr>\n",
              "      <th>3</th>\n",
              "      <td>Anguilla</td>\n",
              "      <td>-63.064989</td>\n",
              "      <td>18.223959</td>\n",
              "    </tr>\n",
              "    <tr>\n",
              "      <th>4</th>\n",
              "      <td>Albania</td>\n",
              "      <td>20.049834</td>\n",
              "      <td>41.142450</td>\n",
              "    </tr>\n",
              "  </tbody>\n",
              "</table>\n",
              "</div>\n",
              "      <button class=\"colab-df-convert\" onclick=\"convertToInteractive('df-b9a0e326-3bdc-4c8e-aed4-b38e980468b6')\"\n",
              "              title=\"Convert this dataframe to an interactive table.\"\n",
              "              style=\"display:none;\">\n",
              "        \n",
              "  <svg xmlns=\"http://www.w3.org/2000/svg\" height=\"24px\"viewBox=\"0 0 24 24\"\n",
              "       width=\"24px\">\n",
              "    <path d=\"M0 0h24v24H0V0z\" fill=\"none\"/>\n",
              "    <path d=\"M18.56 5.44l.94 2.06.94-2.06 2.06-.94-2.06-.94-.94-2.06-.94 2.06-2.06.94zm-11 1L8.5 8.5l.94-2.06 2.06-.94-2.06-.94L8.5 2.5l-.94 2.06-2.06.94zm10 10l.94 2.06.94-2.06 2.06-.94-2.06-.94-.94-2.06-.94 2.06-2.06.94z\"/><path d=\"M17.41 7.96l-1.37-1.37c-.4-.4-.92-.59-1.43-.59-.52 0-1.04.2-1.43.59L10.3 9.45l-7.72 7.72c-.78.78-.78 2.05 0 2.83L4 21.41c.39.39.9.59 1.41.59.51 0 1.02-.2 1.41-.59l7.78-7.78 2.81-2.81c.8-.78.8-2.07 0-2.86zM5.41 20L4 18.59l7.72-7.72 1.47 1.35L5.41 20z\"/>\n",
              "  </svg>\n",
              "      </button>\n",
              "      \n",
              "  <style>\n",
              "    .colab-df-container {\n",
              "      display:flex;\n",
              "      flex-wrap:wrap;\n",
              "      gap: 12px;\n",
              "    }\n",
              "\n",
              "    .colab-df-convert {\n",
              "      background-color: #E8F0FE;\n",
              "      border: none;\n",
              "      border-radius: 50%;\n",
              "      cursor: pointer;\n",
              "      display: none;\n",
              "      fill: #1967D2;\n",
              "      height: 32px;\n",
              "      padding: 0 0 0 0;\n",
              "      width: 32px;\n",
              "    }\n",
              "\n",
              "    .colab-df-convert:hover {\n",
              "      background-color: #E2EBFA;\n",
              "      box-shadow: 0px 1px 2px rgba(60, 64, 67, 0.3), 0px 1px 3px 1px rgba(60, 64, 67, 0.15);\n",
              "      fill: #174EA6;\n",
              "    }\n",
              "\n",
              "    [theme=dark] .colab-df-convert {\n",
              "      background-color: #3B4455;\n",
              "      fill: #D2E3FC;\n",
              "    }\n",
              "\n",
              "    [theme=dark] .colab-df-convert:hover {\n",
              "      background-color: #434B5C;\n",
              "      box-shadow: 0px 1px 3px 1px rgba(0, 0, 0, 0.15);\n",
              "      filter: drop-shadow(0px 1px 2px rgba(0, 0, 0, 0.3));\n",
              "      fill: #FFFFFF;\n",
              "    }\n",
              "  </style>\n",
              "\n",
              "      <script>\n",
              "        const buttonEl =\n",
              "          document.querySelector('#df-b9a0e326-3bdc-4c8e-aed4-b38e980468b6 button.colab-df-convert');\n",
              "        buttonEl.style.display =\n",
              "          google.colab.kernel.accessAllowed ? 'block' : 'none';\n",
              "\n",
              "        async function convertToInteractive(key) {\n",
              "          const element = document.querySelector('#df-b9a0e326-3bdc-4c8e-aed4-b38e980468b6');\n",
              "          const dataTable =\n",
              "            await google.colab.kernel.invokeFunction('convertToInteractive',\n",
              "                                                     [key], {});\n",
              "          if (!dataTable) return;\n",
              "\n",
              "          const docLinkHtml = 'Like what you see? Visit the ' +\n",
              "            '<a target=\"_blank\" href=https://colab.research.google.com/notebooks/data_table.ipynb>data table notebook</a>'\n",
              "            + ' to learn more about interactive tables.';\n",
              "          element.innerHTML = '';\n",
              "          dataTable['output_type'] = 'display_data';\n",
              "          await google.colab.output.renderOutput(dataTable, element);\n",
              "          const docLink = document.createElement('div');\n",
              "          docLink.innerHTML = docLinkHtml;\n",
              "          element.appendChild(docLink);\n",
              "        }\n",
              "      </script>\n",
              "    </div>\n",
              "  </div>\n",
              "  "
            ]
          },
          "metadata": {},
          "execution_count": 6
        }
      ]
    },
    {
      "cell_type": "code",
      "source": [
        "from google.colab import drive\n",
        "drive.mount('/content/drive')"
      ],
      "metadata": {
        "colab": {
          "base_uri": "https://localhost:8080/"
        },
        "id": "JG1BVzIwrwXF",
        "outputId": "cbe3020a-9d47-42fe-a374-9da5a0b584f1"
      },
      "execution_count": 7,
      "outputs": [
        {
          "output_type": "stream",
          "name": "stdout",
          "text": [
            "Drive already mounted at /content/drive; to attempt to forcibly remount, call drive.mount(\"/content/drive\", force_remount=True).\n"
          ]
        }
      ]
    },
    {
      "cell_type": "code",
      "source": [
        "x = list(zip(data['Longitude'],data['Latitude']))\n",
        "print(x)"
      ],
      "metadata": {
        "id": "TQSeHwCc4RqN",
        "colab": {
          "base_uri": "https://localhost:8080/"
        },
        "outputId": "c976f7c2-314c-4154-a6ae-73843c59041b"
      },
      "execution_count": 8,
      "outputs": [
        {
          "output_type": "stream",
          "name": "stdout",
          "text": [
            "[(-69.98267711, 12.52088038), (66.00473366, 33.83523073), (17.53736768, -12.29336054), (-63.06498927, 18.2239595), (20.04983396, 41.14244989), (19.95328768, 60.21488688), (1.56054378, 42.54229102), (54.3001671, 23.90528188), (-65.17980692, -35.3813488), (44.92993276, 40.28952569), (-170.7180258, -14.30445997), (19.92108951, -80.50857913), (123.5838379, -12.42993164), (69.22666758, -49.24895485), (-61.79469343, 17.2774996), (134.4910001, -25.73288704), (14.1264761, 47.58549439), (47.54599879, 40.28827235), (29.87512156, -3.35939666), (4.64065114, 50.63981576), (2.32785254, 9.6417597), (-1.75456601, 12.26953846), (90.23812743, 23.86731158), (25.21552909, 42.76890318), (50.54196932, 26.04205135), (-98.30777028, 61.36206324), (-76.62843038, 24.29036702), (17.76876733, 44.17450125), (-62.84067779, 17.89880451), (28.03209307, 53.53131377), (-88.71010486, 17.20027509), (-64.7545589, 32.31367802), (-64.68538645, -16.70814787), (-53.09783113, -10.78777702), (-59.559797, 13.18145428), (114.7220304, 4.51968958), (90.40188155, 27.41106589), (23.79853368, -22.18403213), (20.46826831, 6.56823297), (8.20867471, 46.79785878), (-71.38256213, -37.73070989), (103.8190735, 36.56176546), (-5.5692157, 7.6284262), (12.73964156, 5.69109849), (23.64396107, -2.87746289), (15.21965762, -0.83787463), (-159.7872422, -21.21927288), (-73.08114582, 3.91383431), (43.68253968, -11.87783444), (-23.9598882, 15.95523324), (-84.19208768, 9.97634464), (-79.01605384, 21.62289528), (-68.97119369, 12.19551675), (-80.91213321, 19.42896497), (33.5684813, 35.26277486), (33.0060022, 34.91667211), (15.31240163, 49.73341233), (10.38578051, 51.10698181), (42.5606754, 11.74871806), (-61.357726, 15.4394702), (10.02800992, 55.98125296), (-70.50568896, 18.89433082), (2.61732301, 28.15893849), (-78.75201922, -1.42381612), (29.86190099, 26.49593311), (38.84617011, 15.36186618), (-3.64755047, 40.24448698), (25.54248537, 58.67192972), (39.60080098, 8.62278679), (26.2746656, 64.49884603), (165.4519543, -17.42858032), (-59.35238956, -51.74483954), (-2.76172945, 42.17344011), (-6.88095423, 62.05385403), (153.2394379, 7.45246814), (11.7886287, -0.58660025), (-2.86563164, 54.12387156), (43.50780252, 42.16855755), (-2.57239064, 49.46809761), (-1.21676566, 7.95345644), (-10.94066612, 10.43621593), (-15.39601295, 13.44965244), (-14.94972445, 12.04744948), (10.34137924, 1.70555135), (22.95555794, 39.07469623), (-61.68220189, 12.11725044), (-41.34191127, 74.71051289), (-90.36482009, 15.69403664), (144.7679102, 13.44165626), (-58.98202459, 4.79378034), (114.1138045, 22.39827737), (73.5205171, -53.08724656), (-86.6151661, 14.82688165), (16.40412899, 45.08047631), (-72.68527509, 18.93502563), (19.39559116, 47.16277506), (117.2401137, -2.21505456), (-4.53873952, 54.22418911), (79.6119761, 22.88578212), (104.851898, -10.6478515), (72.44541229, -7.33059751), (-8.13793569, 53.1754487), (54.27407004, 32.57503292), (43.74353149, 33.03970582), (-18.57396167, 64.99575386), (35.00444693, 31.46110101), (12.07001339, 42.79662641), (-77.31482593, 18.15694878), (-2.12689938, 49.21837377), (36.77136104, 31.24579091), (138.0308956, 37.59230135), (77.18011865, 35.39236325), (67.29149357, 48.15688067), (37.79593973, 0.59988022), (74.54165513, 41.46221943), (104.9069433, 12.72004786), (-45.61110513, 0.86001503), (-62.68755265, 17.2645995), (127.8391609, 36.38523983), (20.87249811, 42.57078707), (47.58700459, 29.33431262), (103.7377241, 18.50217433), (35.88016072, 33.92306631), (-9.32207573, 6.45278492), (18.00866169, 27.03094495), (-60.96969923, 13.89479481), (9.53574312, 47.13665835), (80.70108238, 7.61266509), (28.22723131, -29.58003188), (23.88719355, 55.32610984), (6.07182201, 49.76725361), (24.91235983, 56.85085163), (113.5093212, 22.22311688), (-63.05972851, 18.08888611), (-8.45615795, 29.83762955), (7.40627677, 43.75274627), (28.45673372, 47.19498804), (46.70473674, -19.37189587), (73.45713004, 3.7287092), (-102.5234517, 23.94753724), (170.3397612, 7.00376358), (21.68211346, 41.59530893), (-3.54269065, 17.34581581), (14.40523316, 35.92149632), (96.48843321, 21.18566599), (19.23883939, 42.78890259), (103.0529977, 46.82681544), (145.6196965, 15.82927563), (35.53367543, -17.27381643), (-10.34779815, 20.25736706), (-62.18518546, 16.73941406), (57.57120551, -20.27768704), (34.28935599, -13.21808088), (109.6976228, 3.78986846), (17.20963567, -22.13032568), (165.6849237, -21.29991806), (9.38545882, 17.41912493), (167.9492168, -29.0514609), (8.08943895, 9.59411452), (-85.0305297, 12.84709429), (-169.8699468, -19.04945708), (5.28144793, 52.1007899), (15.34834656, 68.75015572), (83.9158264, 28.24891365), (166.9325682, -0.51912639), (171.4849235, -41.81113557), (56.09166155, 20.60515333), (69.33957937, 29.9497515), (-80.11915156, 8.51750797), (-128.317042, -24.36500535), (-74.38242685, -9.15280381), (122.8839325, 11.77536778), (134.4080797, 7.28742784), (145.2074475, -6.46416646), (19.39012835, 52.12759564), (-66.47307604, 18.22813055), (127.1924797, 40.15350311), (-8.50104361, 39.59550671), (-58.40013703, -23.22823913), (35.19628705, 31.91613893), (-144.9049439, -14.72227409), (51.18479632, 25.30601188), (24.97293039, 45.85243127), (96.68656112, 61.98052209), (29.91988515, -1.99033832), (-12.21982755, 24.22956739), (44.53686271, 24.12245841), (29.94046812, 15.99035669), (30.24790002, 7.30877945), (-14.4734924, 14.36624173), (103.8172559, 1.35876087), (-36.43318388, -54.46488248), (-9.54779416, -12.40355951), (159.6328767, -8.92178022), (-11.79271247, 8.56329593), (-88.87164469, 13.73943744), (12.45922334, 43.94186747), (46.25198395, 9.73345496), (45.70714487, 4.75062876), (-56.30319779, 46.91918789), (20.78958334, 44.2215032), (6.72429658, 0.44391445), (-55.9123457, 4.13055413), (19.47905218, 48.70547528), (14.80444238, 46.11554772), (16.74558049, 62.77966519), (31.4819369, -26.55843045), (-63.05713363, 18.05081728), (55.47603279, -4.66099094), (38.50788204, 35.02547389), (-71.97387881, 21.83047572), (18.64492513, 15.33333758), (0.96232845, 8.52531356), (101.0028813, 15.11815794), (71.01362631, 38.5304539), (59.37100021, 39.11554137), (125.8443898, -8.82889162), (-174.8098734, -20.42843174), (-61.26567923, 10.45733408), (9.55288359, 34.11956246), (35.16895346, 39.0616029), (120.9542728, 23.7539928), (34.81309981, -6.27565408), (32.36907971, 1.27469299), (31.38326469, 48.99656673), (-56.01807053, -32.79951534), (-112.4616737, 45.6795472), (63.14001528, 41.75554225), (12.43387177, 41.90174985), (-61.20129695, 13.22472269), (-66.18184123, 7.12422421), (-64.47146992, 18.52585755), (-64.80301538, 17.95500624), (106.299147, 16.6460167), (167.6864464, -16.22640909), (-177.3483483, -13.88737039), (-172.1648506, -13.75324346), (47.58676189, 15.90928005), (25.08390093, -29.00034095), (27.77475946, -13.45824152), (29.8514412, -19.00420419)]\n"
          ]
        }
      ]
    },
    {
      "cell_type": "code",
      "source": [
        "plt.scatter(data['Latitude'],data['Longitude'])\n",
        "plt.xlim(-180,180)\n",
        "plt.ylim(-90,90)\n",
        "plt.show()"
      ],
      "metadata": {
        "colab": {
          "base_uri": "https://localhost:8080/",
          "height": 268
        },
        "id": "ili3PUaN4WWV",
        "outputId": "0be7ec98-cb79-4462-f6af-46722336267f"
      },
      "execution_count": 9,
      "outputs": [
        {
          "output_type": "display_data",
          "data": {
            "text/plain": [
              "<Figure size 432x288 with 1 Axes>"
            ],
            "image/png": "[encoded data removed]"
          },
          "metadata": {}
        }
      ]
    },
    {
      "cell_type": "code",
      "source": [
        "kmeans = KMeans(3)\n",
        "kmeans.fit(x)"
      ],
      "metadata": {
        "colab": {
          "base_uri": "https://localhost:8080/"
        },
        "id": "0FVuMfMD4mUf",
        "outputId": "2f4435b5-6157-405c-ee71-6e8d10252a64"
      },
      "execution_count": 10,
      "outputs": [
        {
          "output_type": "execute_result",
          "data": {
            "text/plain": [
              "KMeans(n_clusters=3)"
            ]
          },
          "metadata": {},
          "execution_count": 10
        }
      ]
    },
    {
      "cell_type": "code",
      "source": [
        "identified_clusters = kmeans.fit_predict(x)\n",
        "identified_clusters"
      ],
      "metadata": {
        "colab": {
          "base_uri": "https://localhost:8080/"
        },
        "id": "NKQhj92T4oY_",
        "outputId": "ac72b612-5f05-4990-cc02-e091cd380589"
      },
      "execution_count": 11,
      "outputs": [
        {
          "output_type": "execute_result",
          "data": {
            "text/plain": [
              "array([0, 1, 1, 0, 1, 1, 1, 1, 0, 1, 0, 1, 2, 2, 0, 2, 1, 1, 1, 1, 1, 1,\n",
              "       2, 1, 1, 0, 0, 1, 0, 1, 0, 0, 0, 0, 0, 2, 2, 1, 1, 1, 0, 2, 1, 1,\n",
              "       1, 1, 0, 0, 1, 1, 0, 0, 0, 0, 1, 1, 1, 1, 1, 0, 1, 0, 1, 0, 1, 1,\n",
              "       1, 1, 1, 1, 2, 0, 1, 1, 2, 1, 1, 1, 1, 1, 1, 1, 1, 1, 1, 0, 0, 0,\n",
              "       2, 0, 2, 2, 0, 1, 0, 1, 2, 1, 2, 2, 2, 1, 1, 1, 1, 1, 1, 0, 1, 1,\n",
              "       2, 2, 1, 1, 1, 2, 0, 0, 2, 1, 1, 2, 1, 1, 1, 0, 1, 2, 1, 1, 1, 1,\n",
              "       2, 0, 1, 1, 1, 1, 2, 0, 2, 1, 1, 1, 2, 1, 2, 2, 1, 1, 0, 1, 1, 2,\n",
              "       1, 2, 1, 2, 1, 0, 0, 1, 1, 2, 2, 2, 1, 1, 0, 0, 0, 2, 2, 2, 1, 0,\n",
              "       2, 1, 0, 1, 0, 1, 1, 2, 1, 1, 1, 1, 1, 1, 2, 0, 1, 2, 1, 0, 1, 1,\n",
              "       1, 0, 1, 1, 0, 1, 1, 1, 1, 0, 1, 1, 0, 1, 1, 2, 1, 1, 2, 0, 0, 1,\n",
              "       1, 2, 1, 1, 1, 0, 0, 1, 1, 0, 0, 0, 0, 2, 2, 0, 0, 1, 1, 1, 1],\n",
              "      dtype=int32)"
            ]
          },
          "metadata": {},
          "execution_count": 11
        }
      ]
    },
    {
      "cell_type": "code",
      "source": [
        "data_with_clusters = data.copy()\n",
        "data_with_clusters['Clusters'] = identified_clusters \n",
        "plt.scatter(data_with_clusters['Longitude'],data_with_clusters['Latitude'],c=data_with_clusters['Clusters'],cmap='rainbow')"
      ],
      "metadata": {
        "colab": {
          "base_uri": "https://localhost:8080/",
          "height": 287
        },
        "id": "S_xnqtgP4yTX",
        "outputId": "d3fee39a-c82c-46a4-ac77-8c704169ab23"
      },
      "execution_count": 12,
      "outputs": [
        {
          "output_type": "execute_result",
          "data": {
            "text/plain": [
              "<matplotlib.collections.PathCollection at 0x7f10a311f790>"
            ]
          },
          "metadata": {},
          "execution_count": 12
        },
        {
          "output_type": "display_data",
          "data": {
            "text/plain": [
              "<Figure size 432x288 with 1 Axes>"
            ],
            "image/png": "[encoded data removed]"
          },
          "metadata": {}
        }
      ]
    }
  ]
}